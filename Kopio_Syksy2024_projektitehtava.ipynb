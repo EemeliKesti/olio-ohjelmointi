{
  "nbformat": 4,
  "nbformat_minor": 0,
  "metadata": {
    "colab": {
      "provenance": [],
      "gpuType": "T4",
      "include_colab_link": true
    },
    "kernelspec": {
      "name": "python3",
      "display_name": "Python 3"
    },
    "language_info": {
      "name": "python"
    },
    "accelerator": "GPU"
  },
  "cells": [
    {
      "cell_type": "markdown",
      "metadata": {
        "id": "view-in-github",
        "colab_type": "text"
      },
      "source": [
        "<a href=\"https://colab.research.google.com/github/EemeliKesti/olio-ohjelmointi/blob/main/Kopio_Syksy2024_projektitehtava.ipynb\" target=\"_parent\"><img src=\"https://colab.research.google.com/assets/colab-badge.svg\" alt=\"Open In Colab\"/></a>"
      ]
    },
    {
      "cell_type": "code",
      "source": [
        "!pip install --upgrade pip\n",
        "!pip install --upgrade keras\n",
        "!pip install -U -q tensorflow\n",
        "#!pip show keras\n"
      ],
      "metadata": {
        "colab": {
          "base_uri": "https://localhost:8080/"
        },
        "id": "Jpr5xhQ34uyD",
        "outputId": "d1c19951-8dfc-42e8-c9e4-777dd669f79b"
      },
      "execution_count": 22,
      "outputs": [
        {
          "output_type": "stream",
          "name": "stdout",
          "text": [
            "Requirement already satisfied: pip in /usr/local/lib/python3.10/dist-packages (24.2)\n",
            "Requirement already satisfied: keras in /usr/local/lib/python3.10/dist-packages (3.5.0)\n",
            "Requirement already satisfied: absl-py in /usr/local/lib/python3.10/dist-packages (from keras) (1.4.0)\n",
            "Requirement already satisfied: numpy in /usr/local/lib/python3.10/dist-packages (from keras) (1.26.4)\n",
            "Requirement already satisfied: rich in /usr/local/lib/python3.10/dist-packages (from keras) (13.8.1)\n",
            "Requirement already satisfied: namex in /usr/local/lib/python3.10/dist-packages (from keras) (0.0.8)\n",
            "Requirement already satisfied: h5py in /usr/local/lib/python3.10/dist-packages (from keras) (3.11.0)\n",
            "Requirement already satisfied: optree in /usr/local/lib/python3.10/dist-packages (from keras) (0.12.1)\n",
            "Requirement already satisfied: ml-dtypes in /usr/local/lib/python3.10/dist-packages (from keras) (0.4.1)\n",
            "Requirement already satisfied: packaging in /usr/local/lib/python3.10/dist-packages (from keras) (24.1)\n",
            "Requirement already satisfied: typing-extensions>=4.5.0 in /usr/local/lib/python3.10/dist-packages (from optree->keras) (4.12.2)\n",
            "Requirement already satisfied: markdown-it-py>=2.2.0 in /usr/local/lib/python3.10/dist-packages (from rich->keras) (3.0.0)\n",
            "Requirement already satisfied: pygments<3.0.0,>=2.13.0 in /usr/local/lib/python3.10/dist-packages (from rich->keras) (2.18.0)\n",
            "Requirement already satisfied: mdurl~=0.1 in /usr/local/lib/python3.10/dist-packages (from markdown-it-py>=2.2.0->rich->keras) (0.1.2)\n"
          ]
        }
      ]
    },
    {
      "cell_type": "code",
      "source": [
        "# Nämä importattiin simple audio mallissa.\n",
        "import os\n",
        "import pathlib\n",
        "\n",
        "import matplotlib.pyplot as plt\n",
        "import numpy as np\n",
        "import seaborn as sns\n",
        "import tensorflow as tf\n",
        "\n",
        "from keras import layers\n",
        "from keras import models\n",
        "from IPython import display\n",
        "\n"
      ],
      "metadata": {
        "id": "6vDG3KG50i6v"
      },
      "execution_count": 23,
      "outputs": []
    },
    {
      "cell_type": "code",
      "source": [
        "import sys\n",
        "\n",
        "import numpy as np\n",
        "from keras import Model\n",
        "from keras import Layer\n",
        "\n",
        "def import_model(filepath: str) -> Model:\n",
        "    \"\"\"Load model from file\"\"\"\n",
        "    model: Model = models.load_model(filepath)\n",
        "    return model\n",
        "\n",
        "model = import_model('model_export.keras')\n",
        "print(model.summary())\n",
        "\n"
      ],
      "metadata": {
        "colab": {
          "base_uri": "https://localhost:8080/",
          "height": 522
        },
        "id": "xMIvtPLYqxK5",
        "outputId": "0f954851-e0d3-4028-d231-ece49b381a8a"
      },
      "execution_count": 24,
      "outputs": [
        {
          "output_type": "display_data",
          "data": {
            "text/plain": [
              "\u001b[1mModel: \"sequential\"\u001b[0m\n"
            ],
            "text/html": [
              "<pre style=\"white-space:pre;overflow-x:auto;line-height:normal;font-family:Menlo,'DejaVu Sans Mono',consolas,'Courier New',monospace\"><span style=\"font-weight: bold\">Model: \"sequential\"</span>\n",
              "</pre>\n"
            ]
          },
          "metadata": {}
        },
        {
          "output_type": "display_data",
          "data": {
            "text/plain": [
              "┏━━━━━━━━━━━━━━━━━━━━━━━━━━━━━━━━━━━━━━┳━━━━━━━━━━━━━━━━━━━━━━━━━━━━━┳━━━━━━━━━━━━━━━━━┓\n",
              "┃\u001b[1m \u001b[0m\u001b[1mLayer (type)                        \u001b[0m\u001b[1m \u001b[0m┃\u001b[1m \u001b[0m\u001b[1mOutput Shape               \u001b[0m\u001b[1m \u001b[0m┃\u001b[1m \u001b[0m\u001b[1m        Param #\u001b[0m\u001b[1m \u001b[0m┃\n",
              "┡━━━━━━━━━━━━━━━━━━━━━━━━━━━━━━━━━━━━━━╇━━━━━━━━━━━━━━━━━━━━━━━━━━━━━╇━━━━━━━━━━━━━━━━━┩\n",
              "│ resizing (\u001b[38;5;33mResizing\u001b[0m)                  │ (\u001b[38;5;45mNone\u001b[0m, \u001b[38;5;34m32\u001b[0m, \u001b[38;5;34m32\u001b[0m, \u001b[38;5;34m1\u001b[0m)           │               \u001b[38;5;34m0\u001b[0m │\n",
              "├──────────────────────────────────────┼─────────────────────────────┼─────────────────┤\n",
              "│ normalization (\u001b[38;5;33mNormalization\u001b[0m)        │ (\u001b[38;5;45mNone\u001b[0m, \u001b[38;5;34m32\u001b[0m, \u001b[38;5;34m32\u001b[0m, \u001b[38;5;34m1\u001b[0m)           │               \u001b[38;5;34m3\u001b[0m │\n",
              "├──────────────────────────────────────┼─────────────────────────────┼─────────────────┤\n",
              "│ conv2d (\u001b[38;5;33mConv2D\u001b[0m)                      │ (\u001b[38;5;45mNone\u001b[0m, \u001b[38;5;34m30\u001b[0m, \u001b[38;5;34m30\u001b[0m, \u001b[38;5;34m32\u001b[0m)          │             \u001b[38;5;34m320\u001b[0m │\n",
              "├──────────────────────────────────────┼─────────────────────────────┼─────────────────┤\n",
              "│ conv2d_1 (\u001b[38;5;33mConv2D\u001b[0m)                    │ (\u001b[38;5;45mNone\u001b[0m, \u001b[38;5;34m28\u001b[0m, \u001b[38;5;34m28\u001b[0m, \u001b[38;5;34m64\u001b[0m)          │          \u001b[38;5;34m18,496\u001b[0m │\n",
              "├──────────────────────────────────────┼─────────────────────────────┼─────────────────┤\n",
              "│ max_pooling2d (\u001b[38;5;33mMaxPooling2D\u001b[0m)         │ (\u001b[38;5;45mNone\u001b[0m, \u001b[38;5;34m14\u001b[0m, \u001b[38;5;34m14\u001b[0m, \u001b[38;5;34m64\u001b[0m)          │               \u001b[38;5;34m0\u001b[0m │\n",
              "├──────────────────────────────────────┼─────────────────────────────┼─────────────────┤\n",
              "│ dropout (\u001b[38;5;33mDropout\u001b[0m)                    │ (\u001b[38;5;45mNone\u001b[0m, \u001b[38;5;34m14\u001b[0m, \u001b[38;5;34m14\u001b[0m, \u001b[38;5;34m64\u001b[0m)          │               \u001b[38;5;34m0\u001b[0m │\n",
              "├──────────────────────────────────────┼─────────────────────────────┼─────────────────┤\n",
              "│ flatten (\u001b[38;5;33mFlatten\u001b[0m)                    │ (\u001b[38;5;45mNone\u001b[0m, \u001b[38;5;34m12544\u001b[0m)               │               \u001b[38;5;34m0\u001b[0m │\n",
              "├──────────────────────────────────────┼─────────────────────────────┼─────────────────┤\n",
              "│ dense (\u001b[38;5;33mDense\u001b[0m)                        │ (\u001b[38;5;45mNone\u001b[0m, \u001b[38;5;34m128\u001b[0m)                 │       \u001b[38;5;34m1,605,760\u001b[0m │\n",
              "├──────────────────────────────────────┼─────────────────────────────┼─────────────────┤\n",
              "│ dropout_1 (\u001b[38;5;33mDropout\u001b[0m)                  │ (\u001b[38;5;45mNone\u001b[0m, \u001b[38;5;34m128\u001b[0m)                 │               \u001b[38;5;34m0\u001b[0m │\n",
              "├──────────────────────────────────────┼─────────────────────────────┼─────────────────┤\n",
              "│ dense_1 (\u001b[38;5;33mDense\u001b[0m)                      │ (\u001b[38;5;45mNone\u001b[0m, \u001b[38;5;34m8\u001b[0m)                   │           \u001b[38;5;34m1,032\u001b[0m │\n",
              "└──────────────────────────────────────┴─────────────────────────────┴─────────────────┘\n"
            ],
            "text/html": [
              "<pre style=\"white-space:pre;overflow-x:auto;line-height:normal;font-family:Menlo,'DejaVu Sans Mono',consolas,'Courier New',monospace\">┏━━━━━━━━━━━━━━━━━━━━━━━━━━━━━━━━━━━━━━┳━━━━━━━━━━━━━━━━━━━━━━━━━━━━━┳━━━━━━━━━━━━━━━━━┓\n",
              "┃<span style=\"font-weight: bold\"> Layer (type)                         </span>┃<span style=\"font-weight: bold\"> Output Shape                </span>┃<span style=\"font-weight: bold\">         Param # </span>┃\n",
              "┡━━━━━━━━━━━━━━━━━━━━━━━━━━━━━━━━━━━━━━╇━━━━━━━━━━━━━━━━━━━━━━━━━━━━━╇━━━━━━━━━━━━━━━━━┩\n",
              "│ resizing (<span style=\"color: #0087ff; text-decoration-color: #0087ff\">Resizing</span>)                  │ (<span style=\"color: #00d7ff; text-decoration-color: #00d7ff\">None</span>, <span style=\"color: #00af00; text-decoration-color: #00af00\">32</span>, <span style=\"color: #00af00; text-decoration-color: #00af00\">32</span>, <span style=\"color: #00af00; text-decoration-color: #00af00\">1</span>)           │               <span style=\"color: #00af00; text-decoration-color: #00af00\">0</span> │\n",
              "├──────────────────────────────────────┼─────────────────────────────┼─────────────────┤\n",
              "│ normalization (<span style=\"color: #0087ff; text-decoration-color: #0087ff\">Normalization</span>)        │ (<span style=\"color: #00d7ff; text-decoration-color: #00d7ff\">None</span>, <span style=\"color: #00af00; text-decoration-color: #00af00\">32</span>, <span style=\"color: #00af00; text-decoration-color: #00af00\">32</span>, <span style=\"color: #00af00; text-decoration-color: #00af00\">1</span>)           │               <span style=\"color: #00af00; text-decoration-color: #00af00\">3</span> │\n",
              "├──────────────────────────────────────┼─────────────────────────────┼─────────────────┤\n",
              "│ conv2d (<span style=\"color: #0087ff; text-decoration-color: #0087ff\">Conv2D</span>)                      │ (<span style=\"color: #00d7ff; text-decoration-color: #00d7ff\">None</span>, <span style=\"color: #00af00; text-decoration-color: #00af00\">30</span>, <span style=\"color: #00af00; text-decoration-color: #00af00\">30</span>, <span style=\"color: #00af00; text-decoration-color: #00af00\">32</span>)          │             <span style=\"color: #00af00; text-decoration-color: #00af00\">320</span> │\n",
              "├──────────────────────────────────────┼─────────────────────────────┼─────────────────┤\n",
              "│ conv2d_1 (<span style=\"color: #0087ff; text-decoration-color: #0087ff\">Conv2D</span>)                    │ (<span style=\"color: #00d7ff; text-decoration-color: #00d7ff\">None</span>, <span style=\"color: #00af00; text-decoration-color: #00af00\">28</span>, <span style=\"color: #00af00; text-decoration-color: #00af00\">28</span>, <span style=\"color: #00af00; text-decoration-color: #00af00\">64</span>)          │          <span style=\"color: #00af00; text-decoration-color: #00af00\">18,496</span> │\n",
              "├──────────────────────────────────────┼─────────────────────────────┼─────────────────┤\n",
              "│ max_pooling2d (<span style=\"color: #0087ff; text-decoration-color: #0087ff\">MaxPooling2D</span>)         │ (<span style=\"color: #00d7ff; text-decoration-color: #00d7ff\">None</span>, <span style=\"color: #00af00; text-decoration-color: #00af00\">14</span>, <span style=\"color: #00af00; text-decoration-color: #00af00\">14</span>, <span style=\"color: #00af00; text-decoration-color: #00af00\">64</span>)          │               <span style=\"color: #00af00; text-decoration-color: #00af00\">0</span> │\n",
              "├──────────────────────────────────────┼─────────────────────────────┼─────────────────┤\n",
              "│ dropout (<span style=\"color: #0087ff; text-decoration-color: #0087ff\">Dropout</span>)                    │ (<span style=\"color: #00d7ff; text-decoration-color: #00d7ff\">None</span>, <span style=\"color: #00af00; text-decoration-color: #00af00\">14</span>, <span style=\"color: #00af00; text-decoration-color: #00af00\">14</span>, <span style=\"color: #00af00; text-decoration-color: #00af00\">64</span>)          │               <span style=\"color: #00af00; text-decoration-color: #00af00\">0</span> │\n",
              "├──────────────────────────────────────┼─────────────────────────────┼─────────────────┤\n",
              "│ flatten (<span style=\"color: #0087ff; text-decoration-color: #0087ff\">Flatten</span>)                    │ (<span style=\"color: #00d7ff; text-decoration-color: #00d7ff\">None</span>, <span style=\"color: #00af00; text-decoration-color: #00af00\">12544</span>)               │               <span style=\"color: #00af00; text-decoration-color: #00af00\">0</span> │\n",
              "├──────────────────────────────────────┼─────────────────────────────┼─────────────────┤\n",
              "│ dense (<span style=\"color: #0087ff; text-decoration-color: #0087ff\">Dense</span>)                        │ (<span style=\"color: #00d7ff; text-decoration-color: #00d7ff\">None</span>, <span style=\"color: #00af00; text-decoration-color: #00af00\">128</span>)                 │       <span style=\"color: #00af00; text-decoration-color: #00af00\">1,605,760</span> │\n",
              "├──────────────────────────────────────┼─────────────────────────────┼─────────────────┤\n",
              "│ dropout_1 (<span style=\"color: #0087ff; text-decoration-color: #0087ff\">Dropout</span>)                  │ (<span style=\"color: #00d7ff; text-decoration-color: #00d7ff\">None</span>, <span style=\"color: #00af00; text-decoration-color: #00af00\">128</span>)                 │               <span style=\"color: #00af00; text-decoration-color: #00af00\">0</span> │\n",
              "├──────────────────────────────────────┼─────────────────────────────┼─────────────────┤\n",
              "│ dense_1 (<span style=\"color: #0087ff; text-decoration-color: #0087ff\">Dense</span>)                      │ (<span style=\"color: #00d7ff; text-decoration-color: #00d7ff\">None</span>, <span style=\"color: #00af00; text-decoration-color: #00af00\">8</span>)                   │           <span style=\"color: #00af00; text-decoration-color: #00af00\">1,032</span> │\n",
              "└──────────────────────────────────────┴─────────────────────────────┴─────────────────┘\n",
              "</pre>\n"
            ]
          },
          "metadata": {}
        },
        {
          "output_type": "display_data",
          "data": {
            "text/plain": [
              "\u001b[1m Total params: \u001b[0m\u001b[38;5;34m4,876,829\u001b[0m (18.60 MB)\n"
            ],
            "text/html": [
              "<pre style=\"white-space:pre;overflow-x:auto;line-height:normal;font-family:Menlo,'DejaVu Sans Mono',consolas,'Courier New',monospace\"><span style=\"font-weight: bold\"> Total params: </span><span style=\"color: #00af00; text-decoration-color: #00af00\">4,876,829</span> (18.60 MB)\n",
              "</pre>\n"
            ]
          },
          "metadata": {}
        },
        {
          "output_type": "display_data",
          "data": {
            "text/plain": [
              "\u001b[1m Trainable params: \u001b[0m\u001b[38;5;34m1,625,608\u001b[0m (6.20 MB)\n"
            ],
            "text/html": [
              "<pre style=\"white-space:pre;overflow-x:auto;line-height:normal;font-family:Menlo,'DejaVu Sans Mono',consolas,'Courier New',monospace\"><span style=\"font-weight: bold\"> Trainable params: </span><span style=\"color: #00af00; text-decoration-color: #00af00\">1,625,608</span> (6.20 MB)\n",
              "</pre>\n"
            ]
          },
          "metadata": {}
        },
        {
          "output_type": "display_data",
          "data": {
            "text/plain": [
              "\u001b[1m Non-trainable params: \u001b[0m\u001b[38;5;34m3\u001b[0m (16.00 B)\n"
            ],
            "text/html": [
              "<pre style=\"white-space:pre;overflow-x:auto;line-height:normal;font-family:Menlo,'DejaVu Sans Mono',consolas,'Courier New',monospace\"><span style=\"font-weight: bold\"> Non-trainable params: </span><span style=\"color: #00af00; text-decoration-color: #00af00\">3</span> (16.00 B)\n",
              "</pre>\n"
            ]
          },
          "metadata": {}
        },
        {
          "output_type": "display_data",
          "data": {
            "text/plain": [
              "\u001b[1m Optimizer params: \u001b[0m\u001b[38;5;34m3,251,218\u001b[0m (12.40 MB)\n"
            ],
            "text/html": [
              "<pre style=\"white-space:pre;overflow-x:auto;line-height:normal;font-family:Menlo,'DejaVu Sans Mono',consolas,'Courier New',monospace\"><span style=\"font-weight: bold\"> Optimizer params: </span><span style=\"color: #00af00; text-decoration-color: #00af00\">3,251,218</span> (12.40 MB)\n",
              "</pre>\n"
            ]
          },
          "metadata": {}
        },
        {
          "output_type": "stream",
          "name": "stdout",
          "text": [
            "None\n"
          ]
        }
      ]
    },
    {
      "cell_type": "code",
      "source": [
        "def get_layer_weights(layer: str, model: Model) -> list[np.ndarray]:\n",
        "    \"\"\"Get layer weights from given model\"\"\"\n",
        "    return model.get_layer(layer).get_weights()\n",
        "\n",
        "\n",
        "def get_weights_shape(layer: list[np.ndarray]):\n",
        "    tmp = []\n",
        "    for i in layer:\n",
        "        tmp.append(i.shape)\n",
        "    return tmp\n",
        "\n",
        "\n",
        "\n",
        "class DummyLayer(Layer):\n",
        "    def __init__(self):\n",
        "        super(DummyLayer, self).__init__()\n",
        "\n",
        "    def call(self, inputs):\n",
        "        return inputs\n",
        "\n",
        "def get_reference_layer(layer: str, model: Model):\n",
        "    \"\"\"Split the model in to three parts start, layer and rest.\n",
        "\n",
        "    Example:\n",
        "    ```python\n",
        "    model = import_model(\"../model/test_model.keras\")\n",
        "    (start, layer, end) = get_reference_layer(\"dense\", model)\n",
        "\n",
        "    result = start(waveform)\n",
        "    layer_result = layer(result)\n",
        "    print(layer_result)\n",
        "    ```\n",
        "    \"\"\"\n",
        "    modelStart = models.Sequential()\n",
        "    selectedLayer: Layer\n",
        "    modelEnd = models.Sequential()\n",
        "\n",
        "    start = True\n",
        "    l: Layer\n",
        "    for l in model.layers:\n",
        "        if l.name == layer:\n",
        "            start = False\n",
        "            selectedLayer = l\n",
        "            continue\n",
        "        if start:\n",
        "            modelStart.add(l)\n",
        "        else:\n",
        "            modelEnd.add(l)\n",
        "\n",
        "    if not len(modelStart.layers):\n",
        "        modelStart.add(DummyLayer())\n",
        "    if not len(modelEnd.layers):\n",
        "        modelEnd.add(DummyLayer())\n",
        "\n",
        "    modelStart.build(model.input_shape)\n",
        "    modelEnd.build(selectedLayer.output.shape)\n",
        "    return (modelStart, selectedLayer, modelEnd)\n",
        "\n"
      ],
      "metadata": {
        "id": "VwO54FcMW-12"
      },
      "execution_count": 25,
      "outputs": []
    },
    {
      "cell_type": "code",
      "source": [
        "DATASET_PATH = 'data/mini_speech_commands'\n",
        "\n",
        "data_dir = pathlib.Path(DATASET_PATH)\n",
        "if not data_dir.exists():\n",
        "  tf.keras.utils.get_file(\n",
        "      'mini_speech_commands.zip',\n",
        "      origin=\"http://storage.googleapis.com/download.tensorflow.org/data/mini_speech_commands.zip\",\n",
        "      extract=True,\n",
        "      cache_dir='.', cache_subdir='data')"
      ],
      "metadata": {
        "id": "rERnpFPJb_Lg"
      },
      "execution_count": 26,
      "outputs": []
    },
    {
      "cell_type": "code",
      "source": [
        "def get_spectrogram(waveform):\n",
        "  # Convert the waveform to a spectrogram via a STFT.\n",
        "  spectrogram = tf.signal.stft(\n",
        "      waveform, frame_length=255, frame_step=128)\n",
        "  # Obtain the magnitude of the STFT.\n",
        "  spectrogram = tf.abs(spectrogram)\n",
        "  # Add a `channels` dimension, so that the spectrogram can be used\n",
        "  # as image-like input data with convolution layers (which expect\n",
        "  # shape (`batch_size`, `height`, `width`, `channels`).\n",
        "  spectrogram = spectrogram[..., tf.newaxis]\n",
        "  return spectrogram\n",
        "\n"
      ],
      "metadata": {
        "id": "LlWiqVMambgu"
      },
      "execution_count": 41,
      "outputs": []
    },
    {
      "cell_type": "code",
      "source": [
        "def resizing(get_spectrogram):                          #resizeing to 32x32 image\n",
        "  spectrogram = tf.image.resize(spectrogram, [32, 32])\n",
        "  return spectrogram"
      ],
      "metadata": {
        "id": "CptHsSlQIEPS"
      },
      "execution_count": 42,
      "outputs": []
    },
    {
      "cell_type": "code",
      "source": [
        "def normalize(spectrogram):\n",
        "  \"\"\"Normalizes a spectrogram.\"\"\"\n",
        "  min_val = tf.reduce_min(spectrogram)\n",
        "  max_val = tf.reduce_max(spectrogram)\n",
        "  spectrogram = (spectrogram - min_val) / (max_val - min_val)\n",
        "  return spectrogram"
      ],
      "metadata": {
        "id": "qfkLiIr-JUAT"
      },
      "execution_count": 43,
      "outputs": []
    },
    {
      "cell_type": "code",
      "source": [
        "x = data_dir/'left/00b01445_nohash_0.wav'\n",
        "x = tf.io.read_file(str(x))\n",
        "x, sample_rate = tf.audio.decode_wav(x, desired_channels=1, desired_samples=16000,)\n",
        "x = tf.squeeze(x, axis=-1)\n",
        "waveform = x\n",
        "x = get_spectrogram(x)\n",
        "x = x[tf.newaxis,...]\n",
        "\n",
        "prediction = model(x)\n",
        "x_labels = ['no', 'go', 'left', 'stop', 'right', 'down', 'up', 'yes']\n",
        "plt.bar(x_labels, tf.nn.softmax(prediction[0]))\n",
        "plt.title('Left')\n",
        "plt.show()\n",
        "\n",
        "display.display(display.Audio(waveform, rate=16000))"
      ],
      "metadata": {
        "colab": {
          "base_uri": "https://localhost:8080/",
          "height": 511
        },
        "id": "N6wuJ78WYGDE",
        "outputId": "a9c7c8ea-11b0-44ef-a17a-13cd0d4ac435"
      },
      "execution_count": 44,
      "outputs": [
        {
          "output_type": "display_data",
          "data": {
            "text/plain": [
              "<Figure size 640x480 with 1 Axes>"
            ],
            "image/png": "[encoded data removed]"
          },
          "metadata": {}
        },
        {
          "output_type": "display_data",
          "data": {
            "text/plain": [
              "<IPython.lib.display.Audio object>"
            ],
            "text/html": [
              "\n",
              "                <audio  controls=\"controls\" >\n",
              "                    <source src=\"data:audio/wav;base64,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\" type=\"audio/wav\" />\n",
              "                    Your browser does not support the audio element.\n",
              "                </audio>\n",
              "              "
            ]
          },
          "metadata": {}
        }
      ]
    },
    {
      "cell_type": "code",
      "source": [],
      "metadata": {
        "id": "xKCKg8LtF5m2"
      },
      "execution_count": 28,
      "outputs": []
    },
    {
      "cell_type": "code",
      "source": [
        "# Tähän tehdään neuroverkon viimeinen laskenta toka dense_1 layerille\n",
        "def dense(a0,w,b):\n",
        "  a1 = np.matmul(w,a0) + b\n",
        "  return a1\n",
        "\n",
        "def dense2(a0,w1,b1):\n",
        "  a1 = np.matmul(a0,w1) + b1\n",
        "  #a1 = np.matmul(w1,a0) + b1\n",
        "  return a1\n",
        "\n"
      ],
      "metadata": {
        "id": "a62g_3CNfCQL"
      },
      "execution_count": 46,
      "outputs": []
    },
    {
      "cell_type": "code",
      "source": [
        "'''\n",
        "Homma kannattaisi aloittaa verkon loppupäästä\n",
        "\n",
        "'''\n",
        "\n",
        "(start, layer, end) = get_reference_layer(\"dense_1\", model)\n",
        "print(start)\n",
        "print(layer)\n",
        "print(end)\n",
        "#print(get_layer_weights(\"dense_1\",model))\n",
        "print(get_weights_shape(get_layer_weights(\"dense_1\",model)))\n",
        "weights = get_layer_weights(\"dense_1\",model)\n",
        "\n",
        "#print(\"Original input\", model.input_shape)\n",
        "#print(\"Start input\", start.input_shape)\n",
        "#print(\"Layer input\", layer.input.shape)\n",
        "#print(\"End input\", end.input_shape)\n",
        "\n",
        "# To use the model parts, call the part with the input data\n",
        "result = start(x)             # tämä antaa siis verkon oikean tuloksen ennen viimeistä dense_1\n",
        "                              # layeriä\n",
        "layer_result = layer(result)  # Ja tämä tuloksen dense_1:n jälkeen\n",
        "a0 = result                   # viimeiseen neuroverkon kerrokseen menevät 128 neuronia inputtina\n",
        "w1 = weights[0]\n",
        "print(\"w1 = \", w1)\n",
        "print(\"w1 shape = \", w1.shape)\n",
        "b1 = weights[1]\n",
        "print(\"b1 = \", b1)\n",
        "print(\"b1 shape = \", b1.shape)\n",
        "layer_oma_result = dense2(a0,w1,b1)\n",
        "print(\"oma tulos = \",layer_oma_result)\n",
        "\n",
        "#print(layer_result)\n",
        "#print(layer_result.shape)\n",
        "#print(layer_result[0,:])\n",
        "x_labels = ['no', 'go', 'left', 'stop', 'right', 'down', 'up', 'yes']\n",
        "plt.figure(1)\n",
        "plt.subplot(1,2,1)\n",
        "plt.bar(x_labels, tf.nn.softmax(layer_result[0,:]))\n",
        "plt.subplot(1,2,2)\n",
        "plt.bar(x_labels, tf.nn.softmax(layer_oma_result[0,:]))\n",
        "#plt.title('No')\n",
        "plt.show()\n"
      ],
      "metadata": {
        "colab": {
          "base_uri": "https://localhost:8080/",
          "height": 829
        },
        "id": "LAaV9-7cZlG-",
        "outputId": "53f5ab20-f004-43a6-d8ef-32df081017c1"
      },
      "execution_count": 47,
      "outputs": [
        {
          "output_type": "stream",
          "name": "stdout",
          "text": [
            "<Sequential name=sequential_4, built=True>\n",
            "<Dense name=dense_1, built=True>\n",
            "<Sequential name=sequential_5, built=True>\n",
            "[(128, 8), (8,)]\n",
            "w1 =  [[ 0.18919814  0.226109   -0.16014573 ... -0.28705993 -0.2442835\n",
            "  -0.37783676]\n",
            " [-0.27400294  0.01696685 -0.29204962 ...  0.22038057  0.22398347\n",
            "   0.14662386]\n",
            " [-0.15768695 -0.05959481 -0.10879525 ...  0.09425582 -0.19410804\n",
            "  -0.19790798]\n",
            " ...\n",
            " [-0.30410433 -0.18131405  0.11513268 ...  0.15138869  0.1379229\n",
            "  -0.34983167]\n",
            " [-0.2509395  -0.02206937 -0.4158295  ...  0.09718046  0.07544623\n",
            "   0.19345833]\n",
            " [-0.38475215  0.05458427  0.21811981 ... -0.2780531   0.11757211\n",
            "  -0.2536754 ]]\n",
            "w1 shape =  (128, 8)\n",
            "b1 =  [ 0.09860107  0.00468541 -0.09443972  0.17064698 -0.07485042 -0.13355242\n",
            "  0.04446558 -0.10719177]\n",
            "b1 shape =  (8,)\n",
            "oma tulos =  [[ -8.783114  -23.625008   26.916645  -14.127186   -5.912235   -3.2743065\n",
            "  -17.537815    9.590878 ]]\n"
          ]
        },
        {
          "output_type": "display_data",
          "data": {
            "text/plain": [
              "<Figure size 640x480 with 2 Axes>"
            ],
            "image/png": "[encoded data removed]"
          },
          "metadata": {}
        }
      ]
    }
  ]
}